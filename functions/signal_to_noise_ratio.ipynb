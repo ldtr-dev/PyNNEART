{
 "cells": [
  {
   "attachments": {},
   "cell_type": "markdown",
   "metadata": {},
   "source": [
    "# Pre-requirements"
   ]
  },
  {
   "cell_type": "code",
   "execution_count": 1,
   "metadata": {},
   "outputs": [],
   "source": [
    "import math"
   ]
  },
  {
   "attachments": {},
   "cell_type": "markdown",
   "metadata": {},
   "source": [
    "# Signal to Noise Ratio"
   ]
  },
  {
   "attachments": {},
   "cell_type": "markdown",
   "metadata": {},
   "source": [
    "The information included in this Jupyter Notebook and their related formulas [comes from here.](https://iopscience.iop.org/article/10.1088/1741-2552/ac2bf8/pdf)"
   ]
  },
  {
   "attachments": {},
   "cell_type": "markdown",
   "metadata": {},
   "source": [
    "## The task"
   ]
  },
  {
   "attachments": {},
   "cell_type": "markdown",
   "metadata": {},
   "source": [
    "The main task of this Notebook is providing functions related to obtaining the _lambda_ value in the **Signal to Noise Ratio** function described and explained in the article."
   ]
  },
  {
   "attachments": {},
   "cell_type": "markdown",
   "metadata": {},
   "source": [
    "## Signal to Noise Ratio function"
   ]
  },
  {
   "attachments": {},
   "cell_type": "markdown",
   "metadata": {},
   "source": [
    "The original function for a Signal to Noise Ratio is described as:\n",
    "\n",
    "$$SNR = 10log\\frac{RMS(x)}{RMS(\\lambda*n)}$$\n",
    "\n",
    "Where $X$ denotes the clean EEG signal as the ground truth, $n$ denotes (ocular or myogenic) artifacts, and $\\lambda$ is a hyperparameter to control the signal-to-noise ratio ($SNR$).\n",
    "\n",
    "$RMS$ function is also defined as:\n",
    "\n",
    "$$RMS(g)=\\sqrt{\\frac{1}{N}\\sum_{i=1}^{N}g_i^2}$$\n",
    "\n",
    "where $N$ denotes the number of temporal samples in the segment $g$, and $g_i$ denotes the $i^{th}$ sample of a segment $g$.\n",
    "\n",
    "We can define both functions using:"
   ]
  },
  {
   "cell_type": "code",
   "execution_count": 3,
   "metadata": {},
   "outputs": [],
   "source": [
    "def signal_to_noise_ratio(signal, noise, scale_factor):\n",
    "    return 10 * math.log10(\n",
    "        root_mean_square(signal) / root_mean_square(scale_factor * noise)\n",
    "    )\n",
    "\n",
    "\n",
    "def root_mean_square(data):\n",
    "    return math.sqrt(sum(value ** 2 for value in data) / len(data))"
   ]
  },
  {
   "attachments": {},
   "cell_type": "markdown",
   "metadata": {},
   "source": [
    "If we change RMS in SNR we get the function:\n",
    "\n",
    "$$SNR = 10log\\frac{\\sqrt{\\sum_{i=1}^{N}x_i^2}}{\\sqrt{\\lambda^2\\sum_{i=1}^{N}n_i^2}}$$\n",
    "\n",
    "And that's equal to:"
   ]
  },
  {
   "cell_type": "code",
   "execution_count": 4,
   "metadata": {},
   "outputs": [],
   "source": [
    "def signal_to_noise_ratio_full(signal, noise, scale_factor):\n",
    "    return 10 * math.log10(\n",
    "        math.sqrt(sum(value ** 2 for value in signal)) /\n",
    "        math.sqrt(scale_factor ** 2 * sum(value ** 2 for value in noise))\n",
    "    )"
   ]
  },
  {
   "attachments": {},
   "cell_type": "markdown",
   "metadata": {},
   "source": [
    "Clearing $\\lambda$ we get that:\n",
    "\n",
    "$$\\lambda = \\sqrt{\\frac{\\sum_{i=1}^{N}x_i^2}{10^{\\frac{2SNR}{10}}\\sum_{i=1}^{N}n_i^2}}$$\n",
    "\n",
    "Which equals to:"
   ]
  },
  {
   "cell_type": "code",
   "execution_count": 5,
   "metadata": {},
   "outputs": [],
   "source": [
    "def get_lambda_SNR(snr_value, signal, noise):\n",
    "    return math.sqrt(\n",
    "        (sum(value ** 2 for value in signal)) /\n",
    "        ((10 ** (2 * snr_value / 10)) * sum(value ** 2 for value in noise))\n",
    "    )"
   ]
  },
  {
   "attachments": {},
   "cell_type": "markdown",
   "metadata": {},
   "source": [
    "# Examples"
   ]
  },
  {
   "cell_type": "code",
   "execution_count": 8,
   "metadata": {},
   "outputs": [
    {
     "name": "stdout",
     "output_type": "stream",
     "text": [
      "Original signal: [100, 95, 19, 86, 50, 90]\n",
      "Original noise: [0.19, 0.7, 0.1, 0.4, 0.6, 0.5]\n",
      "Original lambda: 20\n",
      "SNR From first function: 22.28343051848143\n",
      "SNR From second function: 9.27313056184162\n",
      "Lambda obtained from first SNR value: 0.9999999999999998\n",
      "Lambda obtained from second SNR value: 20.0\n"
     ]
    }
   ],
   "source": [
    "signal = [100, 95, 19, 86, 50, 90]\n",
    "print(\"Original signal:\", str(signal))\n",
    "\n",
    "noise = [0.19, 0.7, 0.1, 0.4, 0.6, 0.5]\n",
    "print(\"Original noise:\", str(noise))\n",
    "\n",
    "lam = 20\n",
    "print(\"Original lambda:\", str(lam))\n",
    "\n",
    "snr = signal_to_noise_ratio(signal, noise, lam)\n",
    "print(\"SNR From first function:\", str(snr))\n",
    "\n",
    "snr2 = signal_to_noise_ratio_full(signal, noise, lam)\n",
    "print(\"SNR From second function:\", str(snr2))\n",
    "\n",
    "lam_obtained = get_lambda_SNR(snr, signal, noise)\n",
    "print(\"Lambda obtained from first SNR value:\", str(lam_obtained))\n",
    "\n",
    "lam_obtained2 = get_lambda_SNR(snr2, signal, noise)\n",
    "print(\"Lambda obtained from second SNR value:\", str(lam_obtained2))"
   ]
  }
 ],
 "metadata": {
  "kernelspec": {
   "display_name": "Python 3",
   "language": "python",
   "name": "python3"
  },
  "language_info": {
   "codemirror_mode": {
    "name": "ipython",
    "version": 3
   },
   "file_extension": ".py",
   "mimetype": "text/x-python",
   "name": "python",
   "nbconvert_exporter": "python",
   "pygments_lexer": "ipython3",
   "version": "3.11.3"
  },
  "orig_nbformat": 4
 },
 "nbformat": 4,
 "nbformat_minor": 2
}
